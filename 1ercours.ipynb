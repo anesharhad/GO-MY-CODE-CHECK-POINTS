{
 "cells": [
  {
   "cell_type": "code",
   "execution_count": 1,
   "id": "c2ea4f13",
   "metadata": {
    "scrolled": true
   },
   "outputs": [
    {
     "name": "stdout",
     "output_type": "stream",
     "text": [
      "hello\n"
     ]
    }
   ],
   "source": [
    "print(\"hello\")"
   ]
  },
  {
   "cell_type": "markdown",
   "id": "d2e0bc3f",
   "metadata": {},
   "source": [
    "hello"
   ]
  },
  {
   "cell_type": "markdown",
   "id": "40da687f",
   "metadata": {},
   "source": []
  },
  {
   "cell_type": "markdown",
   "id": "7aa223db",
   "metadata": {},
   "source": []
  }
 ],
 "metadata": {
  "kernelspec": {
   "display_name": "Python 3 (ipykernel)",
   "language": "python",
   "name": "python3"
  },
  "language_info": {
   "codemirror_mode": {
    "name": "ipython",
    "version": 3
   },
   "file_extension": ".py",
   "mimetype": "text/x-python",
   "name": "python",
   "nbconvert_exporter": "python",
   "pygments_lexer": "ipython3",
   "version": "3.10.0"
  }
 },
 "nbformat": 4,
 "nbformat_minor": 5
}
