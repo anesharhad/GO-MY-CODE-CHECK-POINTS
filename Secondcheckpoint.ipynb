{
  "nbformat": 4,
  "nbformat_minor": 0,
  "metadata": {
    "colab": {
      "name": "Secondcheckpoint.ipynb",
      "provenance": [],
      "collapsed_sections": [],
      "authorship_tag": "ABX9TyNWTVv9fqyxvMpzLRQZK/dm"
    },
    "kernelspec": {
      "name": "python3",
      "display_name": "Python 3"
    },
    "language_info": {
      "name": "python"
    }
  },
  "cells": [
    {
      "cell_type": "code",
      "execution_count": null,
      "metadata": {
        "colab": {
          "base_uri": "https://localhost:8080/"
        },
        "id": "deI_7Drl_Qjj",
        "outputId": "6f79a49a-58c5-47b8-8ad1-ce3fd1376377"
      },
      "outputs": [
        {
          "output_type": "stream",
          "name": "stdout",
          "text": [
            "please enter your name : Harhad\n",
            "please enter your first name : Anes\n",
            "dahraH senA\n"
          ]
        }
      ],
      "source": [
        "#Question1\n",
        "x = input(\"please enter your name : \")\n",
        "y = input(\"please enter your first name : \")\n",
        "print(x[::-1] , y[::-1])"
      ]
    },
    {
      "cell_type": "code",
      "source": [
        "#Question2\n",
        "x = int(input( \"enter a number : \"))\n",
        "y = str(x) + str(x)\n",
        "z = str(x) + str(x) + str(x) \n",
        "\n",
        "print(x + int(y) + int(z))"
      ],
      "metadata": {
        "colab": {
          "base_uri": "https://localhost:8080/"
        },
        "id": "DmUIqP8u_WyD",
        "outputId": "0942eb69-2532-43cc-d71d-df4861c0dfdb"
      },
      "execution_count": null,
      "outputs": [
        {
          "output_type": "stream",
          "name": "stdout",
          "text": [
            "enter a number : 5\n",
            "615\n"
          ]
        }
      ]
    },
    {
      "cell_type": "code",
      "source": [
        "#Question3\n",
        "x = int(input(\"enter your number : \"))\n",
        "if x%2 == 0 :\n",
        "  print(\"your number is an EVEN\")\n",
        "else :\n",
        "  print(\"your number is an ODD\")"
      ],
      "metadata": {
        "colab": {
          "base_uri": "https://localhost:8080/"
        },
        "id": "Ly9TZhGP_jy5",
        "outputId": "d623c55f-88f9-4186-9812-31c81f30752c"
      },
      "execution_count": null,
      "outputs": [
        {
          "output_type": "stream",
          "name": "stdout",
          "text": [
            "enter your number : 12\n",
            "your number is an EVEN\n"
          ]
        }
      ]
    },
    {
      "cell_type": "code",
      "source": [
        "#Question4\n",
        "x = range(2000,3201)\n",
        "for n in x :\n",
        "  if (n%7 == 0) and not (n%5 == 0) : \n",
        "    print(n, end=\" , \")"
      ],
      "metadata": {
        "colab": {
          "base_uri": "https://localhost:8080/"
        },
        "id": "drjLlAGE_mvC",
        "outputId": "832e8e3b-6fc8-431d-f89e-a309a95a787c"
      },
      "execution_count": 10,
      "outputs": [
        {
          "output_type": "stream",
          "name": "stdout",
          "text": [
            "2002 , 2009 , 2016 , 2023 , 2037 , 2044 , 2051 , 2058 , 2072 , 2079 , 2086 , 2093 , 2107 , 2114 , 2121 , 2128 , 2142 , 2149 , 2156 , 2163 , 2177 , 2184 , 2191 , 2198 , 2212 , 2219 , 2226 , 2233 , 2247 , 2254 , 2261 , 2268 , 2282 , 2289 , 2296 , 2303 , 2317 , 2324 , 2331 , 2338 , 2352 , 2359 , 2366 , 2373 , 2387 , 2394 , 2401 , 2408 , 2422 , 2429 , 2436 , 2443 , 2457 , 2464 , 2471 , 2478 , 2492 , 2499 , 2506 , 2513 , 2527 , 2534 , 2541 , 2548 , 2562 , 2569 , 2576 , 2583 , 2597 , 2604 , 2611 , 2618 , 2632 , 2639 , 2646 , 2653 , 2667 , 2674 , 2681 , 2688 , 2702 , 2709 , 2716 , 2723 , 2737 , 2744 , 2751 , 2758 , 2772 , 2779 , 2786 , 2793 , 2807 , 2814 , 2821 , 2828 , 2842 , 2849 , 2856 , 2863 , 2877 , 2884 , 2891 , 2898 , 2912 , 2919 , 2926 , 2933 , 2947 , 2954 , 2961 , 2968 , 2982 , 2989 , 2996 , 3003 , 3017 , 3024 , 3031 , 3038 , 3052 , 3059 , 3066 , 3073 , 3087 , 3094 , 3101 , 3108 , 3122 , 3129 , 3136 , 3143 , 3157 , 3164 , 3171 , 3178 , 3192 , 3199 , "
          ]
        }
      ]
    },
    {
      "cell_type": "code",
      "source": [
        "#Question5\n",
        "def factorial(y) :\n",
        "  f = 1  \n",
        "  for i in range(1 , y+1) :\n",
        "    f = f * i\n",
        "  return f\n",
        "\n",
        "x = int(input(\"Please enter your number : \"))\n",
        "result = factorial(x)\n",
        "print(\"the factorial of\", str(x) , \"is : \" , result)"
      ],
      "metadata": {
        "colab": {
          "base_uri": "https://localhost:8080/"
        },
        "id": "wk3-M8pgAS7q",
        "outputId": "99a63a6a-f078-4fd7-8f2b-abb8a0afc723"
      },
      "execution_count": null,
      "outputs": [
        {
          "output_type": "stream",
          "name": "stdout",
          "text": [
            "Please enter your number : 4\n",
            "the factorial of 4 is :  24\n"
          ]
        }
      ]
    },
    {
      "cell_type": "code",
      "source": [
        "#Question6\n",
        "x = input(\"Please enter your sentence : \")\n",
        "y = \"\"\n",
        "for i in range(len(x)):\n",
        "    if i%2 != 0 :\n",
        "        y = y + x[i]       \n",
        "print(\"Your sentence without odd index is :\", y)"
      ],
      "metadata": {
        "id": "Az3lMS2AKd5f",
        "colab": {
          "base_uri": "https://localhost:8080/"
        },
        "outputId": "3c26b9d0-78de-4dd7-87f8-eacf99d25d1f"
      },
      "execution_count": 1,
      "outputs": [
        {
          "output_type": "stream",
          "name": "stdout",
          "text": [
            "Please enter your sentence : helloeveryone\n",
            "Your sentence without odd index is : eleeyn\n"
          ]
        }
      ]
    },
    {
      "cell_type": "code",
      "source": [
        "#Question7\n",
        "x = int(input(\"please enter your price : \"))\n",
        "if x >= 500 :\n",
        "  print(\"Your price after discounting of 50% is : \" + str(x*(1-(50/100))))\n",
        "elif 200 <= x < 500 :\n",
        "  print(\"Your price after discounting of 30% is : \" + str(x*(1-(30/100))))\n",
        "else :\n",
        "  print(\"Your price after discounting of 10% is : \" + str(x*(1-(10/100))))\n",
        "\n",
        "print(\"You're welcome\")"
      ],
      "metadata": {
        "colab": {
          "base_uri": "https://localhost:8080/"
        },
        "id": "y5qBFvLGKIwG",
        "outputId": "cc6ab0b4-0324-4eb8-c27c-3092937bd30f"
      },
      "execution_count": 4,
      "outputs": [
        {
          "output_type": "stream",
          "name": "stdout",
          "text": [
            "please enter your price : 199\n",
            "Your price after discounting of 10% is : 179.1\n",
            "You're welcome\n"
          ]
        }
      ]
    }
  ]
}