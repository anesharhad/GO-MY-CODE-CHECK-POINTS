{
 "cells": [
  {
   "cell_type": "code",
   "execution_count": 2,
   "id": "4baa94a0",
   "metadata": {
    "scrolled": true
   },
   "outputs": [
    {
     "ename": "TypeError",
     "evalue": "'list' object is not callable",
     "output_type": "error",
     "traceback": [
      "\u001b[1;31m---------------------------------------------------------------------------\u001b[0m",
      "\u001b[1;31mTypeError\u001b[0m                                 Traceback (most recent call last)",
      "\u001b[1;32m~\\AppData\\Local\\Temp/ipykernel_7968/2451146517.py\u001b[0m in \u001b[0;36m<module>\u001b[1;34m\u001b[0m\n\u001b[0;32m      1\u001b[0m \u001b[0mlist\u001b[0m \u001b[1;33m=\u001b[0m \u001b[1;33m[\u001b[0m\u001b[1;36m2\u001b[0m\u001b[1;33m,\u001b[0m\u001b[1;36m3\u001b[0m\u001b[1;33m,\u001b[0m\u001b[1;36m4\u001b[0m\u001b[1;33m,\u001b[0m\u001b[1;36m5\u001b[0m\u001b[1;33m,\u001b[0m\u001b[1;36m3\u001b[0m\u001b[1;33m,\u001b[0m\u001b[1;36m8\u001b[0m\u001b[1;33m,\u001b[0m\u001b[1;36m4\u001b[0m\u001b[1;33m,\u001b[0m\u001b[1;36m9\u001b[0m\u001b[1;33m,\u001b[0m\u001b[1;36m7\u001b[0m\u001b[1;33m,\u001b[0m\u001b[1;36m5\u001b[0m\u001b[1;33m]\u001b[0m\u001b[1;33m\u001b[0m\u001b[1;33m\u001b[0m\u001b[0m\n\u001b[1;32m----> 2\u001b[1;33m \u001b[1;32mfor\u001b[0m \u001b[0mi\u001b[0m \u001b[1;32min\u001b[0m \u001b[0mlist\u001b[0m\u001b[1;33m(\u001b[0m\u001b[1;33m)\u001b[0m\u001b[1;33m:\u001b[0m\u001b[1;33m\u001b[0m\u001b[1;33m\u001b[0m\u001b[0m\n\u001b[0m\u001b[0;32m      3\u001b[0m         \u001b[0mi\u001b[0m \u001b[1;33m=\u001b[0m \u001b[1;36m1\u001b[0m\u001b[1;33m\u001b[0m\u001b[1;33m\u001b[0m\u001b[0m\n\u001b[0;32m      4\u001b[0m         \u001b[0mi\u001b[0m \u001b[1;33m=\u001b[0m \u001b[1;36m1\u001b[0m \u001b[1;33m*\u001b[0m \u001b[0mlist\u001b[0m\u001b[1;33m[\u001b[0m\u001b[0mi\u001b[0m\u001b[1;33m]\u001b[0m\u001b[1;33m\u001b[0m\u001b[1;33m\u001b[0m\u001b[0m\n\u001b[0;32m      5\u001b[0m \u001b[0mprint\u001b[0m\u001b[1;33m(\u001b[0m\u001b[0mi\u001b[0m\u001b[1;33m)\u001b[0m\u001b[1;33m\u001b[0m\u001b[1;33m\u001b[0m\u001b[0m\n",
      "\u001b[1;31mTypeError\u001b[0m: 'list' object is not callable"
     ]
    }
   ],
   "source": [
    "list = [2,3,4,5,3,8,4,9,7,5]\n",
    "for i in list():\n",
    "        i = 1\n",
    "        i = 1 * list[i]\n",
    "print(i)"
   ]
  },
  {
   "cell_type": "code",
   "execution_count": 23,
   "id": "11517995",
   "metadata": {},
   "outputs": [
    {
     "name": "stdout",
     "output_type": "stream",
     "text": [
      "[1, 2, 3, 5, 7]\n"
     ]
    }
   ],
   "source": [
    "#def multiplication(mylist):   \n",
    "i = 1\n",
    "for x in mylist:\n",
    "    i = i * x\n",
    "    #return i\n",
    "list1 = [1, 2, 3, 5 ,7]\n",
    "print(list1)"
   ]
  },
  {
   "cell_type": "code",
   "execution_count": 21,
   "id": "19479898",
   "metadata": {},
   "outputs": [
    {
     "name": "stdout",
     "output_type": "stream",
     "text": [
      "{'a': 400, 'b': 400, 'd': 400}\n"
     ]
    }
   ],
   "source": [
    "#d1 = {'a': 100, 'b': 200, 'c':300}\n",
    "#d2 = {'a': 300, 'b': 200, 'd':400}\n",
    "\n",
    " \n",
    "# adding the values with common key\n",
    "for key in d2:\n",
    "    if key in d1:\n",
    "        d2[key] = d2[key] + d1[key]\n",
    "    else:\n",
    "        pass\n",
    "         \n",
    "print(d2)\n",
    "\n",
    "d1 = {'a': 100, 'b': 200, 'c':300}\n",
    "d2 = {'a': 300, 'b': 200, 'd':400}\n"
   ]
  },
  {
   "cell_type": "code",
   "execution_count": 24,
   "id": "88a8f93e",
   "metadata": {},
   "outputs": [
    {
     "name": "stdout",
     "output_type": "stream",
     "text": [
      "combien d'ellement voulez vouz introduir a la liste:6\n",
      "veillez saisir des chiffres:1\n",
      "veillez saisir des chiffres:2\n",
      "veillez saisir des chiffres:3\n",
      "veillez saisir des chiffres:4\n",
      "veillez saisir des chiffres:5\n",
      "veillez saisir des chiffres:6\n",
      "le resulat de la multi de la liste [1, 2, 3, 4, 5, 6] et 720\n"
     ]
    }
   ],
   "source": [
    "#question 1 IDIR\n",
    "my_list=[]\n",
    "n=int(input(\"combien d'ellement voulez vouz introduir a la liste:\")) \n",
    "x=1\n",
    "for n in range(n):\n",
    "    y=input(\"veillez saisir des chiffres:\")\n",
    "    y=int(y)\n",
    "    my_list.append(y)\n",
    "    x=x*my_list[n]\n",
    "print(\"le resulat de la multi de la liste\",my_list,\"et\",x)"
   ]
  },
  {
   "cell_type": "code",
   "execution_count": 25,
   "id": "c2fbf00f",
   "metadata": {},
   "outputs": [
    {
     "name": "stdout",
     "output_type": "stream",
     "text": [
      "Enter the number of items: 4\n",
      "Enter the value: 1\n",
      "Enter the value: 2\n",
      "Enter the value: 3\n",
      "Enter the value: 4\n",
      "Your list of numbers is:  [1, 2, 3, 4]\n",
      "The result of the items multiplication is:  24\n"
     ]
    }
   ],
   "source": [
    "# Write a Python program that multiplies all the items in a list created by the user. MISSOUM\n",
    "numlist=[]\n",
    "items=int(input('Enter the number of items: '))\n",
    "for j in range(items):\n",
    "    num=int(input(\"Enter the value: \"))\n",
    "    numlist.append(num)\n",
    "print(\"Your list of numbers is: \",numlist)\n",
    "s=1\n",
    "for i in numlist:\n",
    "    s=s*i\n",
    "print(\"The result of the items multiplication is: \",s)"
   ]
  },
  {
   "cell_type": "code",
   "execution_count": 49,
   "id": "cd292b50",
   "metadata": {},
   "outputs": [
    {
     "name": "stdout",
     "output_type": "stream",
     "text": [
      "{'a': 400, 'b': 400, 'd': 300, 'c': 400}\n"
     ]
    }
   ],
   "source": [
    "#question 3\n",
    "d3 = {}\n",
    "d1 = {'a': 100, 'b': 200, 'd':300}\n",
    "d2 = {'a': 300, 'b': 200, 'c':400}\n",
    "\n",
    "for key in d1 :\n",
    "    if key in d2:\n",
    "        d3[key]=d1[key]+d2[key]\n",
    "    else:\n",
    "        d3[key]=d1[key]\n",
    "\n",
    "for key in d2:\n",
    "    if key not in d1:\n",
    "        d3[key] = d2[key]\n",
    "print(d3)"
   ]
  },
  {
   "cell_type": "code",
   "execution_count": 66,
   "id": "1a0ae798",
   "metadata": {},
   "outputs": [
    {
     "name": "stdout",
     "output_type": "stream",
     "text": [
      "enter an integer : 8\n",
      "64\n"
     ]
    }
   ],
   "source": [
    "x = int(input(\"enter an integer : \"))\n",
    "for i in range (1,x+1):\n",
    "    #i = 1\n",
    "    i = i * i\n",
    "print(i)\n",
    "      "
   ]
  },
  {
   "cell_type": "code",
   "execution_count": null,
   "id": "4f1ff1a2",
   "metadata": {},
   "outputs": [],
   "source": []
  }
 ],
 "metadata": {
  "kernelspec": {
   "display_name": "Python 3 (ipykernel)",
   "language": "python",
   "name": "python3"
  },
  "language_info": {
   "codemirror_mode": {
    "name": "ipython",
    "version": 3
   },
   "file_extension": ".py",
   "mimetype": "text/x-python",
   "name": "python",
   "nbconvert_exporter": "python",
   "pygments_lexer": "ipython3",
   "version": "3.9.7"
  }
 },
 "nbformat": 4,
 "nbformat_minor": 5
}
